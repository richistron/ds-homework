{
 "cells": [
  {
   "metadata": {},
   "cell_type": "markdown",
   "source": [
    "# Análisis de caso\n",
    "\n",
    "Lea la información en el [PDF](Caso2_M1CDN101.pdf)\n",
    "\n"
   ],
   "id": "c03d1abaa6c3fb87"
  },
  {
   "metadata": {
    "ExecuteTime": {
     "end_time": "2025-05-21T15:03:37.240863Z",
     "start_time": "2025-05-21T15:03:37.229355Z"
    }
   },
   "cell_type": "code",
   "source": [
    "import pandas as pd\n",
    "import matplotlib.pyplot as plt\n",
    "\n",
    "data = pd.read_csv(\"./src/fundamentos_stadistica/s2/Datos.csv\", index_col=0)\n",
    "\n",
    "data.head(3)"
   ],
   "id": "6ae123e1510b94a",
   "outputs": [
    {
     "data": {
      "text/plain": [
       "       Calificación Respuesta\n",
       "Datos                        \n",
       "1                 5         N\n",
       "2                 7         N\n",
       "3                 6         S"
      ],
      "text/html": [
       "<div>\n",
       "<style scoped>\n",
       "    .dataframe tbody tr th:only-of-type {\n",
       "        vertical-align: middle;\n",
       "    }\n",
       "\n",
       "    .dataframe tbody tr th {\n",
       "        vertical-align: top;\n",
       "    }\n",
       "\n",
       "    .dataframe thead th {\n",
       "        text-align: right;\n",
       "    }\n",
       "</style>\n",
       "<table border=\"1\" class=\"dataframe\">\n",
       "  <thead>\n",
       "    <tr style=\"text-align: right;\">\n",
       "      <th></th>\n",
       "      <th>Calificación</th>\n",
       "      <th>Respuesta</th>\n",
       "    </tr>\n",
       "    <tr>\n",
       "      <th>Datos</th>\n",
       "      <th></th>\n",
       "      <th></th>\n",
       "    </tr>\n",
       "  </thead>\n",
       "  <tbody>\n",
       "    <tr>\n",
       "      <th>1</th>\n",
       "      <td>5</td>\n",
       "      <td>N</td>\n",
       "    </tr>\n",
       "    <tr>\n",
       "      <th>2</th>\n",
       "      <td>7</td>\n",
       "      <td>N</td>\n",
       "    </tr>\n",
       "    <tr>\n",
       "      <th>3</th>\n",
       "      <td>6</td>\n",
       "      <td>S</td>\n",
       "    </tr>\n",
       "  </tbody>\n",
       "</table>\n",
       "</div>"
      ]
     },
     "execution_count": 3,
     "metadata": {},
     "output_type": "execute_result"
    }
   ],
   "execution_count": 3
  },
  {
   "metadata": {
    "ExecuteTime": {
     "end_time": "2025-05-21T15:03:40.046575Z",
     "start_time": "2025-05-21T15:03:40.031844Z"
    }
   },
   "cell_type": "code",
   "source": "data.describe().transpose()",
   "id": "248f6f598a1b774",
   "outputs": [
    {
     "data": {
      "text/plain": [
       "              count   mean       std  min  25%  50%  75%   max\n",
       "Calificación  200.0  7.545  1.744474  5.0  6.0  7.0  9.0  10.0"
      ],
      "text/html": [
       "<div>\n",
       "<style scoped>\n",
       "    .dataframe tbody tr th:only-of-type {\n",
       "        vertical-align: middle;\n",
       "    }\n",
       "\n",
       "    .dataframe tbody tr th {\n",
       "        vertical-align: top;\n",
       "    }\n",
       "\n",
       "    .dataframe thead th {\n",
       "        text-align: right;\n",
       "    }\n",
       "</style>\n",
       "<table border=\"1\" class=\"dataframe\">\n",
       "  <thead>\n",
       "    <tr style=\"text-align: right;\">\n",
       "      <th></th>\n",
       "      <th>count</th>\n",
       "      <th>mean</th>\n",
       "      <th>std</th>\n",
       "      <th>min</th>\n",
       "      <th>25%</th>\n",
       "      <th>50%</th>\n",
       "      <th>75%</th>\n",
       "      <th>max</th>\n",
       "    </tr>\n",
       "  </thead>\n",
       "  <tbody>\n",
       "    <tr>\n",
       "      <th>Calificación</th>\n",
       "      <td>200.0</td>\n",
       "      <td>7.545</td>\n",
       "      <td>1.744474</td>\n",
       "      <td>5.0</td>\n",
       "      <td>6.0</td>\n",
       "      <td>7.0</td>\n",
       "      <td>9.0</td>\n",
       "      <td>10.0</td>\n",
       "    </tr>\n",
       "  </tbody>\n",
       "</table>\n",
       "</div>"
      ]
     },
     "execution_count": 4,
     "metadata": {},
     "output_type": "execute_result"
    }
   ],
   "execution_count": 4
  },
  {
   "metadata": {
    "ExecuteTime": {
     "end_time": "2025-05-21T15:11:04.157847Z",
     "start_time": "2025-05-21T15:11:04.145944Z"
    }
   },
   "cell_type": "code",
   "source": [
    "calificaciones = data[\"Calificación\"].value_counts().sort_index()\n",
    "cal_frecuenca_relativa = calificaciones / data[\"Calificación\"].size * 100\n",
    "calificaciones_cumsum = calificaciones.cumsum()\n",
    "cal_frecuenca_acumulada = calificaciones_cumsum / calificaciones_cumsum.iloc[-1] * 100\n",
    "pd.DataFrame(\n",
    "    {\n",
    "        \"Frecuencia\": calificaciones.values,\n",
    "        \"Frecuencia Relativa %\": cal_frecuenca_relativa,\n",
    "        \"Frecuencia Acumulada %\": cal_frecuenca_acumulada,\n",
    "    },\n",
    "    index=calificaciones.index,\n",
    ")"
   ],
   "id": "1b83f377bbc21fca",
   "outputs": [
    {
     "data": {
      "text/plain": [
       "              Frecuencia  Frecuencia Relativa %  Frecuencia Acumulada %\n",
       "Calificación                                                           \n",
       "5                     30                   15.0                    15.0\n",
       "6                     36                   18.0                    33.0\n",
       "7                     40                   20.0                    53.0\n",
       "8                     24                   12.0                    65.0\n",
       "9                     29                   14.5                    79.5\n",
       "10                    41                   20.5                   100.0"
      ],
      "text/html": [
       "<div>\n",
       "<style scoped>\n",
       "    .dataframe tbody tr th:only-of-type {\n",
       "        vertical-align: middle;\n",
       "    }\n",
       "\n",
       "    .dataframe tbody tr th {\n",
       "        vertical-align: top;\n",
       "    }\n",
       "\n",
       "    .dataframe thead th {\n",
       "        text-align: right;\n",
       "    }\n",
       "</style>\n",
       "<table border=\"1\" class=\"dataframe\">\n",
       "  <thead>\n",
       "    <tr style=\"text-align: right;\">\n",
       "      <th></th>\n",
       "      <th>Frecuencia</th>\n",
       "      <th>Frecuencia Relativa %</th>\n",
       "      <th>Frecuencia Acumulada %</th>\n",
       "    </tr>\n",
       "    <tr>\n",
       "      <th>Calificación</th>\n",
       "      <th></th>\n",
       "      <th></th>\n",
       "      <th></th>\n",
       "    </tr>\n",
       "  </thead>\n",
       "  <tbody>\n",
       "    <tr>\n",
       "      <th>5</th>\n",
       "      <td>30</td>\n",
       "      <td>15.0</td>\n",
       "      <td>15.0</td>\n",
       "    </tr>\n",
       "    <tr>\n",
       "      <th>6</th>\n",
       "      <td>36</td>\n",
       "      <td>18.0</td>\n",
       "      <td>33.0</td>\n",
       "    </tr>\n",
       "    <tr>\n",
       "      <th>7</th>\n",
       "      <td>40</td>\n",
       "      <td>20.0</td>\n",
       "      <td>53.0</td>\n",
       "    </tr>\n",
       "    <tr>\n",
       "      <th>8</th>\n",
       "      <td>24</td>\n",
       "      <td>12.0</td>\n",
       "      <td>65.0</td>\n",
       "    </tr>\n",
       "    <tr>\n",
       "      <th>9</th>\n",
       "      <td>29</td>\n",
       "      <td>14.5</td>\n",
       "      <td>79.5</td>\n",
       "    </tr>\n",
       "    <tr>\n",
       "      <th>10</th>\n",
       "      <td>41</td>\n",
       "      <td>20.5</td>\n",
       "      <td>100.0</td>\n",
       "    </tr>\n",
       "  </tbody>\n",
       "</table>\n",
       "</div>"
      ]
     },
     "execution_count": 13,
     "metadata": {},
     "output_type": "execute_result"
    }
   ],
   "execution_count": 13
  },
  {
   "metadata": {
    "ExecuteTime": {
     "end_time": "2025-05-21T15:11:32.796643Z",
     "start_time": "2025-05-21T15:11:32.679988Z"
    }
   },
   "cell_type": "code",
   "source": [
    "cal_frecuenca_relativa.plot(kind=\"bar\")\n",
    "plt.xlabel(\"Calificación\")\n",
    "plt.ylabel(\"Frecuencia %\")\n",
    "plt.title(\"Calificación\")\n",
    "plt.show()"
   ],
   "id": "6ce5a9ff3ff61167",
   "outputs": [
    {
     "data": {
      "text/plain": [
       "<Figure size 640x480 with 1 Axes>"
      ],
      "image/png": "[encoded data removed]"
     },
     "metadata": {},
     "output_type": "display_data"
    }
   ],
   "execution_count": 15
  },
  {
   "metadata": {
    "ExecuteTime": {
     "end_time": "2025-05-21T15:11:44.184746Z",
     "start_time": "2025-05-21T15:11:44.087421Z"
    }
   },
   "cell_type": "code",
   "source": [
    "plt.boxplot(data[\"Calificación\"])\n",
    "plt.xlabel(\"Calificación\")\n",
    "plt.title(\"Boxplot of Calificación\")\n",
    "plt.show()"
   ],
   "id": "543e73df1c68db37",
   "outputs": [
    {
     "data": {
      "text/plain": [
       "<Figure size 640x480 with 1 Axes>"
      ],
      "image/png": "[encoded data removed]"
     },
     "metadata": {},
     "output_type": "display_data"
    }
   ],
   "execution_count": 16
  },
  {
   "metadata": {
    "ExecuteTime": {
     "end_time": "2025-05-21T15:22:46.680947Z",
     "start_time": "2025-05-21T15:22:46.670148Z"
    }
   },
   "cell_type": "code",
   "source": [
    "frecuencia_respuestas = data[\"Respuesta\"].value_counts().sort_index(ascending=False)\n",
    "respuestas_cumsum = frecuencia_respuestas.cumsum()\n",
    "respuestas_freq_relativa = frecuencia_respuestas / data[\"Respuesta\"].size * 100\n",
    "pd.DataFrame(\n",
    "    {\n",
    "        \"Frecuencia\": frecuencia_respuestas,\n",
    "        \"Frecuencia Relativa %\": respuestas_freq_relativa,\n",
    "        \"Frecuencia Acumulada %\": respuestas_cumsum / respuestas_cumsum.iloc[-1] * 100,\n",
    "    },\n",
    "    index=frecuencia_respuestas.index,\n",
    ")"
   ],
   "id": "6ec88aac34ca3aa",
   "outputs": [
    {
     "data": {
      "text/plain": [
       "           Frecuencia  Frecuencia Relativa %  Frecuencia Acumulada %\n",
       "Respuesta                                                           \n",
       "S                 167                   83.5                    83.5\n",
       "N                  33                   16.5                   100.0"
      ],
      "text/html": [
       "<div>\n",
       "<style scoped>\n",
       "    .dataframe tbody tr th:only-of-type {\n",
       "        vertical-align: middle;\n",
       "    }\n",
       "\n",
       "    .dataframe tbody tr th {\n",
       "        vertical-align: top;\n",
       "    }\n",
       "\n",
       "    .dataframe thead th {\n",
       "        text-align: right;\n",
       "    }\n",
       "</style>\n",
       "<table border=\"1\" class=\"dataframe\">\n",
       "  <thead>\n",
       "    <tr style=\"text-align: right;\">\n",
       "      <th></th>\n",
       "      <th>Frecuencia</th>\n",
       "      <th>Frecuencia Relativa %</th>\n",
       "      <th>Frecuencia Acumulada %</th>\n",
       "    </tr>\n",
       "    <tr>\n",
       "      <th>Respuesta</th>\n",
       "      <th></th>\n",
       "      <th></th>\n",
       "      <th></th>\n",
       "    </tr>\n",
       "  </thead>\n",
       "  <tbody>\n",
       "    <tr>\n",
       "      <th>S</th>\n",
       "      <td>167</td>\n",
       "      <td>83.5</td>\n",
       "      <td>83.5</td>\n",
       "    </tr>\n",
       "    <tr>\n",
       "      <th>N</th>\n",
       "      <td>33</td>\n",
       "      <td>16.5</td>\n",
       "      <td>100.0</td>\n",
       "    </tr>\n",
       "  </tbody>\n",
       "</table>\n",
       "</div>"
      ]
     },
     "execution_count": 22,
     "metadata": {},
     "output_type": "execute_result"
    }
   ],
   "execution_count": 22
  },
  {
   "metadata": {
    "ExecuteTime": {
     "end_time": "2025-05-21T15:23:23.153377Z",
     "start_time": "2025-05-21T15:23:23.100016Z"
    }
   },
   "cell_type": "code",
   "source": [
    "respuestas_freq_relativa.plot(\n",
    "    kind=\"pie\",\n",
    "    autopct=\"%1.1f%%\",\n",
    "    startangle=90,\n",
    "    title=\"Respuestas\",\n",
    ")\n",
    "plt.ylabel(\"\")\n",
    "plt.show()"
   ],
   "id": "8b692729e13fd275",
   "outputs": [
    {
     "data": {
      "text/plain": [
       "<Figure size 640x480 with 1 Axes>"
      ],
      "image/png": "[encoded data removed]"
     },
     "metadata": {},
     "output_type": "display_data"
    }
   ],
   "execution_count": 24
  }
 ],
 "metadata": {
  "kernelspec": {
   "display_name": "Python 3",
   "language": "python",
   "name": "python3"
  },
  "language_info": {
   "codemirror_mode": {
    "name": "ipython",
    "version": 2
   },
   "file_extension": ".py",
   "mimetype": "text/x-python",
   "name": "python",
   "nbconvert_exporter": "python",
   "pygments_lexer": "ipython2",
   "version": "2.7.6"
  }
 },
 "nbformat": 4,
 "nbformat_minor": 5
}
